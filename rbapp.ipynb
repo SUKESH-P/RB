{
 "cells": [
  {
   "cell_type": "code",
   "execution_count": 4,
   "id": "452a880e-619d-4cb2-995a-42271859f0ae",
   "metadata": {},
   "outputs": [
    {
     "name": "stdout",
     "output_type": "stream",
     "text": [
      "Requirement already satisfied: streamlit in c:\\users\\sukkiiii\\anaconda3\\new folder\\lib\\site-packages (1.37.1)\n",
      "Requirement already satisfied: altair<6,>=4.0 in c:\\users\\sukkiiii\\anaconda3\\new folder\\lib\\site-packages (from streamlit) (5.0.1)\n",
      "Requirement already satisfied: blinker<2,>=1.0.0 in c:\\users\\sukkiiii\\anaconda3\\new folder\\lib\\site-packages (from streamlit) (1.6.2)\n",
      "Requirement already satisfied: cachetools<6,>=4.0 in c:\\users\\sukkiiii\\anaconda3\\new folder\\lib\\site-packages (from streamlit) (5.3.3)\n",
      "Requirement already satisfied: click<9,>=7.0 in c:\\users\\sukkiiii\\anaconda3\\new folder\\lib\\site-packages (from streamlit) (8.1.7)\n",
      "Requirement already satisfied: numpy<3,>=1.20 in c:\\users\\sukkiiii\\anaconda3\\new folder\\lib\\site-packages (from streamlit) (1.26.4)\n",
      "Requirement already satisfied: packaging<25,>=20 in c:\\users\\sukkiiii\\anaconda3\\new folder\\lib\\site-packages (from streamlit) (24.1)\n",
      "Requirement already satisfied: pandas<3,>=1.3.0 in c:\\users\\sukkiiii\\anaconda3\\new folder\\lib\\site-packages (from streamlit) (2.2.2)\n",
      "Requirement already satisfied: pillow<11,>=7.1.0 in c:\\users\\sukkiiii\\anaconda3\\new folder\\lib\\site-packages (from streamlit) (10.4.0)\n",
      "Requirement already satisfied: protobuf<6,>=3.20 in c:\\users\\sukkiiii\\anaconda3\\new folder\\lib\\site-packages (from streamlit) (4.25.3)\n",
      "Requirement already satisfied: pyarrow>=7.0 in c:\\users\\sukkiiii\\anaconda3\\new folder\\lib\\site-packages (from streamlit) (16.1.0)\n",
      "Requirement already satisfied: requests<3,>=2.27 in c:\\users\\sukkiiii\\anaconda3\\new folder\\lib\\site-packages (from streamlit) (2.32.3)\n",
      "Requirement already satisfied: rich<14,>=10.14.0 in c:\\users\\sukkiiii\\anaconda3\\new folder\\lib\\site-packages (from streamlit) (13.7.1)\n",
      "Requirement already satisfied: tenacity<9,>=8.1.0 in c:\\users\\sukkiiii\\anaconda3\\new folder\\lib\\site-packages (from streamlit) (8.2.3)\n",
      "Requirement already satisfied: toml<2,>=0.10.1 in c:\\users\\sukkiiii\\anaconda3\\new folder\\lib\\site-packages (from streamlit) (0.10.2)\n",
      "Requirement already satisfied: typing-extensions<5,>=4.3.0 in c:\\users\\sukkiiii\\anaconda3\\new folder\\lib\\site-packages (from streamlit) (4.11.0)\n",
      "Requirement already satisfied: gitpython!=3.1.19,<4,>=3.0.7 in c:\\users\\sukkiiii\\anaconda3\\new folder\\lib\\site-packages (from streamlit) (3.1.43)\n",
      "Requirement already satisfied: pydeck<1,>=0.8.0b4 in c:\\users\\sukkiiii\\anaconda3\\new folder\\lib\\site-packages (from streamlit) (0.8.0)\n",
      "Requirement already satisfied: tornado<7,>=6.0.3 in c:\\users\\sukkiiii\\anaconda3\\new folder\\lib\\site-packages (from streamlit) (6.4.1)\n",
      "Requirement already satisfied: watchdog<5,>=2.1.5 in c:\\users\\sukkiiii\\anaconda3\\new folder\\lib\\site-packages (from streamlit) (4.0.1)\n",
      "Requirement already satisfied: jinja2 in c:\\users\\sukkiiii\\anaconda3\\new folder\\lib\\site-packages (from altair<6,>=4.0->streamlit) (3.1.4)\n",
      "Requirement already satisfied: jsonschema>=3.0 in c:\\users\\sukkiiii\\anaconda3\\new folder\\lib\\site-packages (from altair<6,>=4.0->streamlit) (4.23.0)\n",
      "Requirement already satisfied: toolz in c:\\users\\sukkiiii\\anaconda3\\new folder\\lib\\site-packages (from altair<6,>=4.0->streamlit) (0.12.0)\n",
      "Requirement already satisfied: colorama in c:\\users\\sukkiiii\\anaconda3\\new folder\\lib\\site-packages (from click<9,>=7.0->streamlit) (0.4.6)\n",
      "Requirement already satisfied: gitdb<5,>=4.0.1 in c:\\users\\sukkiiii\\anaconda3\\new folder\\lib\\site-packages (from gitpython!=3.1.19,<4,>=3.0.7->streamlit) (4.0.7)\n",
      "Requirement already satisfied: python-dateutil>=2.8.2 in c:\\users\\sukkiiii\\anaconda3\\new folder\\lib\\site-packages (from pandas<3,>=1.3.0->streamlit) (2.9.0.post0)\n",
      "Requirement already satisfied: pytz>=2020.1 in c:\\users\\sukkiiii\\anaconda3\\new folder\\lib\\site-packages (from pandas<3,>=1.3.0->streamlit) (2024.1)\n",
      "Requirement already satisfied: tzdata>=2022.7 in c:\\users\\sukkiiii\\anaconda3\\new folder\\lib\\site-packages (from pandas<3,>=1.3.0->streamlit) (2023.3)\n",
      "Requirement already satisfied: charset-normalizer<4,>=2 in c:\\users\\sukkiiii\\anaconda3\\new folder\\lib\\site-packages (from requests<3,>=2.27->streamlit) (3.3.2)\n",
      "Requirement already satisfied: idna<4,>=2.5 in c:\\users\\sukkiiii\\anaconda3\\new folder\\lib\\site-packages (from requests<3,>=2.27->streamlit) (3.7)\n",
      "Requirement already satisfied: urllib3<3,>=1.21.1 in c:\\users\\sukkiiii\\anaconda3\\new folder\\lib\\site-packages (from requests<3,>=2.27->streamlit) (2.2.3)\n",
      "Requirement already satisfied: certifi>=2017.4.17 in c:\\users\\sukkiiii\\anaconda3\\new folder\\lib\\site-packages (from requests<3,>=2.27->streamlit) (2024.8.30)\n",
      "Requirement already satisfied: markdown-it-py>=2.2.0 in c:\\users\\sukkiiii\\anaconda3\\new folder\\lib\\site-packages (from rich<14,>=10.14.0->streamlit) (2.2.0)\n",
      "Requirement already satisfied: pygments<3.0.0,>=2.13.0 in c:\\users\\sukkiiii\\anaconda3\\new folder\\lib\\site-packages (from rich<14,>=10.14.0->streamlit) (2.15.1)\n",
      "Requirement already satisfied: smmap<5,>=3.0.1 in c:\\users\\sukkiiii\\anaconda3\\new folder\\lib\\site-packages (from gitdb<5,>=4.0.1->gitpython!=3.1.19,<4,>=3.0.7->streamlit) (4.0.0)\n",
      "Requirement already satisfied: MarkupSafe>=2.0 in c:\\users\\sukkiiii\\anaconda3\\new folder\\lib\\site-packages (from jinja2->altair<6,>=4.0->streamlit) (2.1.3)\n",
      "Requirement already satisfied: attrs>=22.2.0 in c:\\users\\sukkiiii\\anaconda3\\new folder\\lib\\site-packages (from jsonschema>=3.0->altair<6,>=4.0->streamlit) (24.2.0)\n",
      "Requirement already satisfied: jsonschema-specifications>=2023.03.6 in c:\\users\\sukkiiii\\anaconda3\\new folder\\lib\\site-packages (from jsonschema>=3.0->altair<6,>=4.0->streamlit) (2023.7.1)\n",
      "Requirement already satisfied: referencing>=0.28.4 in c:\\users\\sukkiiii\\anaconda3\\new folder\\lib\\site-packages (from jsonschema>=3.0->altair<6,>=4.0->streamlit) (0.30.2)\n",
      "Requirement already satisfied: rpds-py>=0.7.1 in c:\\users\\sukkiiii\\anaconda3\\new folder\\lib\\site-packages (from jsonschema>=3.0->altair<6,>=4.0->streamlit) (0.10.6)\n",
      "Requirement already satisfied: mdurl~=0.1 in c:\\users\\sukkiiii\\anaconda3\\new folder\\lib\\site-packages (from markdown-it-py>=2.2.0->rich<14,>=10.14.0->streamlit) (0.1.0)\n",
      "Requirement already satisfied: six>=1.5 in c:\\users\\sukkiiii\\anaconda3\\new folder\\lib\\site-packages (from python-dateutil>=2.8.2->pandas<3,>=1.3.0->streamlit) (1.16.0)\n",
      "Note: you may need to restart the kernel to use updated packages.\n"
     ]
    }
   ],
   "source": [
    "pip install streamlit\n"
   ]
  },
  {
   "cell_type": "code",
   "execution_count": 2,
   "id": "debf3cb6-ab96-4b41-a0b4-dfd297021d38",
   "metadata": {},
   "outputs": [
    {
     "name": "stdout",
     "output_type": "stream",
     "text": [
      "Collecting streamlit_option_menu\n",
      "  Downloading streamlit_option_menu-0.4.0-py3-none-any.whl.metadata (2.5 kB)\n",
      "Requirement already satisfied: streamlit>=1.36 in c:\\users\\sukkiiii\\anaconda3\\new folder\\lib\\site-packages (from streamlit_option_menu) (1.37.1)\n",
      "Requirement already satisfied: altair<6,>=4.0 in c:\\users\\sukkiiii\\anaconda3\\new folder\\lib\\site-packages (from streamlit>=1.36->streamlit_option_menu) (5.0.1)\n",
      "Requirement already satisfied: blinker<2,>=1.0.0 in c:\\users\\sukkiiii\\anaconda3\\new folder\\lib\\site-packages (from streamlit>=1.36->streamlit_option_menu) (1.6.2)\n",
      "Requirement already satisfied: cachetools<6,>=4.0 in c:\\users\\sukkiiii\\anaconda3\\new folder\\lib\\site-packages (from streamlit>=1.36->streamlit_option_menu) (5.3.3)\n",
      "Requirement already satisfied: click<9,>=7.0 in c:\\users\\sukkiiii\\anaconda3\\new folder\\lib\\site-packages (from streamlit>=1.36->streamlit_option_menu) (8.1.7)\n",
      "Requirement already satisfied: numpy<3,>=1.20 in c:\\users\\sukkiiii\\anaconda3\\new folder\\lib\\site-packages (from streamlit>=1.36->streamlit_option_menu) (1.26.4)\n",
      "Requirement already satisfied: packaging<25,>=20 in c:\\users\\sukkiiii\\anaconda3\\new folder\\lib\\site-packages (from streamlit>=1.36->streamlit_option_menu) (24.1)\n",
      "Requirement already satisfied: pandas<3,>=1.3.0 in c:\\users\\sukkiiii\\anaconda3\\new folder\\lib\\site-packages (from streamlit>=1.36->streamlit_option_menu) (2.2.2)\n",
      "Requirement already satisfied: pillow<11,>=7.1.0 in c:\\users\\sukkiiii\\anaconda3\\new folder\\lib\\site-packages (from streamlit>=1.36->streamlit_option_menu) (10.4.0)\n",
      "Requirement already satisfied: protobuf<6,>=3.20 in c:\\users\\sukkiiii\\anaconda3\\new folder\\lib\\site-packages (from streamlit>=1.36->streamlit_option_menu) (4.25.3)\n",
      "Requirement already satisfied: pyarrow>=7.0 in c:\\users\\sukkiiii\\anaconda3\\new folder\\lib\\site-packages (from streamlit>=1.36->streamlit_option_menu) (16.1.0)\n",
      "Requirement already satisfied: requests<3,>=2.27 in c:\\users\\sukkiiii\\anaconda3\\new folder\\lib\\site-packages (from streamlit>=1.36->streamlit_option_menu) (2.32.3)\n",
      "Requirement already satisfied: rich<14,>=10.14.0 in c:\\users\\sukkiiii\\anaconda3\\new folder\\lib\\site-packages (from streamlit>=1.36->streamlit_option_menu) (13.7.1)\n",
      "Requirement already satisfied: tenacity<9,>=8.1.0 in c:\\users\\sukkiiii\\anaconda3\\new folder\\lib\\site-packages (from streamlit>=1.36->streamlit_option_menu) (8.2.3)\n",
      "Requirement already satisfied: toml<2,>=0.10.1 in c:\\users\\sukkiiii\\anaconda3\\new folder\\lib\\site-packages (from streamlit>=1.36->streamlit_option_menu) (0.10.2)\n",
      "Requirement already satisfied: typing-extensions<5,>=4.3.0 in c:\\users\\sukkiiii\\anaconda3\\new folder\\lib\\site-packages (from streamlit>=1.36->streamlit_option_menu) (4.11.0)\n",
      "Requirement already satisfied: gitpython!=3.1.19,<4,>=3.0.7 in c:\\users\\sukkiiii\\anaconda3\\new folder\\lib\\site-packages (from streamlit>=1.36->streamlit_option_menu) (3.1.43)\n",
      "Requirement already satisfied: pydeck<1,>=0.8.0b4 in c:\\users\\sukkiiii\\anaconda3\\new folder\\lib\\site-packages (from streamlit>=1.36->streamlit_option_menu) (0.8.0)\n",
      "Requirement already satisfied: tornado<7,>=6.0.3 in c:\\users\\sukkiiii\\anaconda3\\new folder\\lib\\site-packages (from streamlit>=1.36->streamlit_option_menu) (6.4.1)\n",
      "Requirement already satisfied: watchdog<5,>=2.1.5 in c:\\users\\sukkiiii\\anaconda3\\new folder\\lib\\site-packages (from streamlit>=1.36->streamlit_option_menu) (4.0.1)\n",
      "Requirement already satisfied: jinja2 in c:\\users\\sukkiiii\\anaconda3\\new folder\\lib\\site-packages (from altair<6,>=4.0->streamlit>=1.36->streamlit_option_menu) (3.1.4)\n",
      "Requirement already satisfied: jsonschema>=3.0 in c:\\users\\sukkiiii\\anaconda3\\new folder\\lib\\site-packages (from altair<6,>=4.0->streamlit>=1.36->streamlit_option_menu) (4.23.0)\n",
      "Requirement already satisfied: toolz in c:\\users\\sukkiiii\\anaconda3\\new folder\\lib\\site-packages (from altair<6,>=4.0->streamlit>=1.36->streamlit_option_menu) (0.12.0)\n",
      "Requirement already satisfied: colorama in c:\\users\\sukkiiii\\anaconda3\\new folder\\lib\\site-packages (from click<9,>=7.0->streamlit>=1.36->streamlit_option_menu) (0.4.6)\n",
      "Requirement already satisfied: gitdb<5,>=4.0.1 in c:\\users\\sukkiiii\\anaconda3\\new folder\\lib\\site-packages (from gitpython!=3.1.19,<4,>=3.0.7->streamlit>=1.36->streamlit_option_menu) (4.0.7)\n",
      "Requirement already satisfied: python-dateutil>=2.8.2 in c:\\users\\sukkiiii\\anaconda3\\new folder\\lib\\site-packages (from pandas<3,>=1.3.0->streamlit>=1.36->streamlit_option_menu) (2.9.0.post0)\n",
      "Requirement already satisfied: pytz>=2020.1 in c:\\users\\sukkiiii\\anaconda3\\new folder\\lib\\site-packages (from pandas<3,>=1.3.0->streamlit>=1.36->streamlit_option_menu) (2024.1)\n",
      "Requirement already satisfied: tzdata>=2022.7 in c:\\users\\sukkiiii\\anaconda3\\new folder\\lib\\site-packages (from pandas<3,>=1.3.0->streamlit>=1.36->streamlit_option_menu) (2023.3)\n",
      "Requirement already satisfied: charset-normalizer<4,>=2 in c:\\users\\sukkiiii\\anaconda3\\new folder\\lib\\site-packages (from requests<3,>=2.27->streamlit>=1.36->streamlit_option_menu) (3.3.2)\n",
      "Requirement already satisfied: idna<4,>=2.5 in c:\\users\\sukkiiii\\anaconda3\\new folder\\lib\\site-packages (from requests<3,>=2.27->streamlit>=1.36->streamlit_option_menu) (3.7)\n",
      "Requirement already satisfied: urllib3<3,>=1.21.1 in c:\\users\\sukkiiii\\anaconda3\\new folder\\lib\\site-packages (from requests<3,>=2.27->streamlit>=1.36->streamlit_option_menu) (2.2.3)\n",
      "Requirement already satisfied: certifi>=2017.4.17 in c:\\users\\sukkiiii\\anaconda3\\new folder\\lib\\site-packages (from requests<3,>=2.27->streamlit>=1.36->streamlit_option_menu) (2024.8.30)\n",
      "Requirement already satisfied: markdown-it-py>=2.2.0 in c:\\users\\sukkiiii\\anaconda3\\new folder\\lib\\site-packages (from rich<14,>=10.14.0->streamlit>=1.36->streamlit_option_menu) (2.2.0)\n",
      "Requirement already satisfied: pygments<3.0.0,>=2.13.0 in c:\\users\\sukkiiii\\anaconda3\\new folder\\lib\\site-packages (from rich<14,>=10.14.0->streamlit>=1.36->streamlit_option_menu) (2.15.1)\n",
      "Requirement already satisfied: smmap<5,>=3.0.1 in c:\\users\\sukkiiii\\anaconda3\\new folder\\lib\\site-packages (from gitdb<5,>=4.0.1->gitpython!=3.1.19,<4,>=3.0.7->streamlit>=1.36->streamlit_option_menu) (4.0.0)\n",
      "Requirement already satisfied: MarkupSafe>=2.0 in c:\\users\\sukkiiii\\anaconda3\\new folder\\lib\\site-packages (from jinja2->altair<6,>=4.0->streamlit>=1.36->streamlit_option_menu) (2.1.3)\n",
      "Requirement already satisfied: attrs>=22.2.0 in c:\\users\\sukkiiii\\anaconda3\\new folder\\lib\\site-packages (from jsonschema>=3.0->altair<6,>=4.0->streamlit>=1.36->streamlit_option_menu) (24.2.0)\n",
      "Requirement already satisfied: jsonschema-specifications>=2023.03.6 in c:\\users\\sukkiiii\\anaconda3\\new folder\\lib\\site-packages (from jsonschema>=3.0->altair<6,>=4.0->streamlit>=1.36->streamlit_option_menu) (2023.7.1)\n",
      "Requirement already satisfied: referencing>=0.28.4 in c:\\users\\sukkiiii\\anaconda3\\new folder\\lib\\site-packages (from jsonschema>=3.0->altair<6,>=4.0->streamlit>=1.36->streamlit_option_menu) (0.30.2)\n",
      "Requirement already satisfied: rpds-py>=0.7.1 in c:\\users\\sukkiiii\\anaconda3\\new folder\\lib\\site-packages (from jsonschema>=3.0->altair<6,>=4.0->streamlit>=1.36->streamlit_option_menu) (0.10.6)\n",
      "Requirement already satisfied: mdurl~=0.1 in c:\\users\\sukkiiii\\anaconda3\\new folder\\lib\\site-packages (from markdown-it-py>=2.2.0->rich<14,>=10.14.0->streamlit>=1.36->streamlit_option_menu) (0.1.0)\n",
      "Requirement already satisfied: six>=1.5 in c:\\users\\sukkiiii\\anaconda3\\new folder\\lib\\site-packages (from python-dateutil>=2.8.2->pandas<3,>=1.3.0->streamlit>=1.36->streamlit_option_menu) (1.16.0)\n",
      "Downloading streamlit_option_menu-0.4.0-py3-none-any.whl (829 kB)\n",
      "   ---------------------------------------- 0.0/829.3 kB ? eta -:--:--\n",
      "   ------------------------- -------------- 524.3/829.3 kB 5.6 MB/s eta 0:00:01\n",
      "   ---------------------------------------- 829.3/829.3 kB 7.3 MB/s eta 0:00:00\n",
      "Installing collected packages: streamlit_option_menu\n",
      "Successfully installed streamlit_option_menu-0.4.0\n",
      "Note: you may need to restart the kernel to use updated packages.\n"
     ]
    }
   ],
   "source": [
    "pip install streamlit_option_menu"
   ]
  },
  {
   "cell_type": "code",
   "execution_count": 1,
   "id": "c8f35048-bda2-40df-a432-b9bc3d551dce",
   "metadata": {},
   "outputs": [],
   "source": [
    "import pandas as pd\n",
    "import mysql.connector \n",
    "import streamlit as slt\n",
    "from streamlit_option_menu import option_menu\n",
    "import plotly.express as px\n",
    "import time"
   ]
  },
  {
   "cell_type": "code",
   "execution_count": 10,
   "id": "01560a27-daab-4c3e-a74f-883262a25b98",
   "metadata": {},
   "outputs": [],
   "source": [
    "#KL bus\n",
    "lists_k=[]\n",
    "df_k=pd.read_csv(\"df_k.csv\")\n",
    "for i,r in df_k.iterrows():\n",
    "    lists_k.append(r[\"Route_name\"])"
   ]
  },
  {
   "cell_type": "code",
   "execution_count": 11,
   "id": "6a2dd2a6-9796-423c-a7a6-1e07596710bf",
   "metadata": {},
   "outputs": [],
   "source": [
    "#AN bus\n",
    "lists_a=[]\n",
    "df_a=pd.read_csv(\"df_a.csv\")\n",
    "for i,r in df_a.iterrows():\n",
    "    lists_a.append(r[\"Route_name\"])"
   ]
  },
  {
   "cell_type": "code",
   "execution_count": 15,
   "id": "0dd5d6dc-9baf-4614-89e0-59e7d281bfe6",
   "metadata": {},
   "outputs": [],
   "source": [
    "#TS bus\n",
    "lists_t=[]\n",
    "df_t=pd.read_csv(\"df_t.csv\")\n",
    "for i,r in df_t.iterrows():\n",
    "    lists_t.append(r[\"Route_name\"])"
   ]
  },
  {
   "cell_type": "code",
   "execution_count": 17,
   "id": "615533a7-41d0-48d8-91ae-7382cddaf3f9",
   "metadata": {},
   "outputs": [],
   "source": [
    "#KT bus\n",
    "lists_kt=[]\n",
    "df_kt=pd.read_csv(\"df_kt.csv\")\n",
    "for i,r in df_kt.iterrows():\n",
    "    lists_kt.append(r[\"Route_name\"])"
   ]
  },
  {
   "cell_type": "code",
   "execution_count": 19,
   "id": "aa41c172-8069-4919-adf4-fe641417b0c5",
   "metadata": {},
   "outputs": [],
   "source": [
    "#RJ bus\n",
    "lists_r=[]\n",
    "df_r=pd.read_csv(\"df_r.csv\")\n",
    "for i,r in df_r.iterrows():\n",
    "    lists_r.append(r[\"Route_name\"])"
   ]
  },
  {
   "cell_type": "code",
   "execution_count": 21,
   "id": "ec726f09-a9a8-48e3-9dc1-e4908545349b",
   "metadata": {},
   "outputs": [],
   "source": [
    "#SB bus\n",
    "lists_sb=[]\n",
    "df_sb=pd.read_csv(\"df_sb.csv\")\n",
    "for i,r in df_sb.iterrows():\n",
    "    lists_sb.append(r[\"Route_name\"])"
   ]
  },
  {
   "cell_type": "code",
   "execution_count": 23,
   "id": "e0f22f7a-afdc-445d-a657-e5d7865d4d45",
   "metadata": {},
   "outputs": [],
   "source": [
    "#HR bus\n",
    "lists_h=[]\n",
    "df_h=pd.read_csv(\"df_h.csv\")\n",
    "for i,r in df_h.iterrows():\n",
    "    lists_h.append(r[\"Route_name\"])"
   ]
  },
  {
   "cell_type": "code",
   "execution_count": 25,
   "id": "c2d31b13-67ae-4162-bdd6-baa8e35f12ff",
   "metadata": {},
   "outputs": [],
   "source": [
    "#AS bus\n",
    "lists_as=[]\n",
    "df_as=pd.read_csv(\"df_ar.csv\")\n",
    "for i,r in df_as.iterrows():\n",
    "    lists_as.append(r[\"Route_name\"])"
   ]
  },
  {
   "cell_type": "code",
   "execution_count": 27,
   "id": "9beca0d2-67b5-48b3-999f-02532dc4df8c",
   "metadata": {},
   "outputs": [],
   "source": [
    "#UP bus\n",
    "lists_up=[]\n",
    "df_up=pd.read_csv(\"df_up.csv\")\n",
    "for i,r in df_up.iterrows():\n",
    "    lists_up.append(r[\"Route_name\"])"
   ]
  },
  {
   "cell_type": "code",
   "execution_count": 29,
   "id": "03280831-ce76-4ec7-b068-7071e55e70f4",
   "metadata": {},
   "outputs": [],
   "source": [
    "#WB bus\n",
    "lists_wb=[]\n",
    "df_wb=pd.read_csv(\"df_wb.csv\")\n",
    "for i,r in df_wb.iterrows():\n",
    "    lists_wb.append(r[\"Route_name\"])"
   ]
  },
  {
   "cell_type": "code",
   "execution_count": 30,
   "id": "7c3e56a9-4632-4adf-82bf-f8da8c19e810",
   "metadata": {},
   "outputs": [],
   "source": [
    "slt.set_page_config(layout=\"wide\")"
   ]
  },
  {
   "cell_type": "code",
   "execution_count": 31,
   "id": "e64b6626-2334-4585-8cff-c46ee37369dd",
   "metadata": {},
   "outputs": [
    {
     "name": "stderr",
     "output_type": "stream",
     "text": [
      "2024-12-11 18:08:09.305 \n",
      "  \u001b[33m\u001b[1mWarning:\u001b[0m to view this Streamlit app on a browser, run it with the following\n",
      "  command:\n",
      "\n",
      "    streamlit run C:\\Users\\Sukkiiii\\anaconda3\\New folder\\Lib\\site-packages\\ipykernel_launcher.py [ARGUMENTS]\n"
     ]
    }
   ],
   "source": [
    "web=option_menu(menu_title=\"OnlineBus\",options=[\"Home\",\"States and Routes\"],icons=[\"house\",\"info_circle\"],\n",
    "                orientation=\"horizontal\")"
   ]
  },
  {
   "cell_type": "code",
   "execution_count": 1,
   "id": "98f26ec8-6283-4ab9-a102-88659c6cefe4",
   "metadata": {},
   "outputs": [
    {
     "name": "stderr",
     "output_type": "stream",
     "text": [
      "2024-12-12 17:06:23.422 \n",
      "  \u001b[33m\u001b[1mWarning:\u001b[0m to view this Streamlit app on a browser, run it with the following\n",
      "  command:\n",
      "\n",
      "    streamlit run C:\\Users\\Sukkiiii\\anaconda3\\New folder\\Lib\\site-packages\\ipykernel_launcher.py [ARGUMENTS]\n",
      "2024-12-12 17:06:23.425 Session state does not function when running a script without `streamlit run`\n"
     ]
    }
   ],
   "source": [
    "import streamlit as slt\n",
    "import mysql.connector\n",
    "import pandas as pd\n",
    "\n",
    "# Database connection function\n",
    "def get_db_connection():\n",
    "    return mysql.connector.connect(\n",
    "        host=\"localhost\",\n",
    "        user=\"root\",\n",
    "        password=\"Amphi@55\",\n",
    "        database=\"RED_BUS_DETAILS\"\n",
    "    )\n",
    "\n",
    "# Query execution function\n",
    "def fetch_bus_details(route_name, fare_range):\n",
    "    price_conditions = {\n",
    "        \"50-1000\": \"Price BETWEEN 50 AND 1000\",\n",
    "        \"1000-2000\": \"Price BETWEEN 1000 AND 2000\",\n",
    "        \"2000 and above\": \"Price > 2000\"\n",
    "    }\n",
    "    query = f\"\"\"\n",
    "        SELECT * FROM bus_details\n",
    "        WHERE {price_conditions[fare_range]} AND Route_name=%s\n",
    "        ORDER BY Price DESC\n",
    "    \"\"\"\n",
    "    with get_db_connection() as conn:\n",
    "        cursor = conn.cursor()\n",
    "        cursor.execute(query, (route_name,))\n",
    "        results = cursor.fetchall()\n",
    "        columns = [\"ID\", \"Bus_name\", \"Bus_type\", \"Start_time\", \"End_time\",\n",
    "                   \"Total_duration\", \"Price\", \"Seats_Available\", \"Ratings\",\n",
    "                   \"Route_link\", \"Route_name\"]\n",
    "        return pd.DataFrame(results, columns=columns)\n",
    "\n",
    "# Main Streamlit app\n",
    "slt.title(\"Redbus Data Scraping\")\n",
    "web = slt.sidebar.selectbox(\"Navigation\", [\"Home\", \"States and Routes\"])\n",
    "\n",
    "if web == \"Home\":\n",
    "    slt.title(\"Redbus Data Scraping\")\n",
    "    slt.subheader(\":blue[Domain:] Transportation\")\n",
    "    slt.subheader(\":blue[Objective:]\")\n",
    "    slt.markdown(\"Provides Comprehensive solution\")\n",
    "    slt.subheader(\":blue[Overview:]\")\n",
    "    slt.markdown(\"Selenium is a tool for Webscraping\")\n",
    "    slt.markdown(\"Used pandas\")\n",
    "    slt.subheader(\":blue[Skill-take:]\")\n",
    "    slt.markdown(\"Selenium, Python, Pandas, MYSQL, Streamlit\")\n",
    "\n",
    "elif web == \"States and Routes\":\n",
    "    states_routes = {\n",
    "        \"Kerala\": [\"Route1\", \"Route2\", \"Route3\"],\n",
    "        \"Andhra Pradesh\": [\"RouteA1\", \"RouteA2\"],\n",
    "        \"Telangana\": [\"RouteT1\", \"RouteT2\"],\n",
    "        \"Goa\": [\"RouteG1\", \"RouteG2\"],\n",
    "        # Add more states and routes as needed\n",
    "    }\n",
    "    \n",
    "    state = slt.selectbox(\"Select a State\", list(states_routes.keys()))\n",
    "    route = slt.selectbox(\"Select a Route\", states_routes[state])\n",
    "    fare_range = slt.radio(\"Choose bus fare range\", (\"50-1000\", \"1000-2000\", \"2000 and above\"))\n",
    "    \n",
    "    if slt.button(\"Fetch Details\"):\n",
    "        bus_data = fetch_bus_details(route, fare_range)\n",
    "        if not bus_data.empty:\n",
    "            slt.write(bus_data)\n",
    "        else:\n",
    "            slt.warning(\"No bus details found for the selected criteria.\")\n"
   ]
  }
 ],
 "metadata": {
  "kernelspec": {
   "display_name": "Python 3 (ipykernel)",
   "language": "python",
   "name": "python3"
  },
  "language_info": {
   "codemirror_mode": {
    "name": "ipython",
    "version": 3
   },
   "file_extension": ".py",
   "mimetype": "text/x-python",
   "name": "python",
   "nbconvert_exporter": "python",
   "pygments_lexer": "ipython3",
   "version": "3.12.7"
  }
 },
 "nbformat": 4,
 "nbformat_minor": 5
}
