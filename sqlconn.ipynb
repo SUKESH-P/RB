{
 "cells": [
  {
   "cell_type": "code",
   "execution_count": 1,
   "id": "b2d9d71f-76e1-446b-9db8-a8da5515156c",
   "metadata": {},
   "outputs": [
    {
     "name": "stdout",
     "output_type": "stream",
     "text": [
      "Requirement already satisfied: mysql-connector-python in c:\\users\\sukkiiii\\anaconda3\\new folder\\lib\\site-packages (9.1.0)\n",
      "Note: you may need to restart the kernel to use updated packages.\n"
     ]
    }
   ],
   "source": [
    "pip install mysql-connector-python"
   ]
  },
  {
   "cell_type": "code",
   "execution_count": 48,
   "id": "e4844f32-b62c-4f1c-879f-381648bc72cb",
   "metadata": {},
   "outputs": [],
   "source": [
    "\n",
    "#importing libraries\n",
    "import pandas as pd\n",
    "import mysql.connector\n",
    "import numpy as np"
   ]
  },
  {
   "cell_type": "code",
   "execution_count": 49,
   "id": "47cdf4a7-91fd-4833-b153-33e510351605",
   "metadata": {},
   "outputs": [],
   "source": [
    "# Reading the CSV files\n",
    "df_buses_1 = pd.read_csv(r\"C:\\Users\\Sukkiiii\\Desktop\\CAPSTONE PROJECT\\RED BUS\\df_buses_1.csv\")\n",
    "df_buses_2 = pd.read_csv(r\"C:\\Users\\Sukkiiii\\Desktop\\CAPSTONE PROJECT\\RED BUS\\df_buses_2.csv\")\n",
    "df_buses_3 = pd.read_csv(r\"C:\\Users\\Sukkiiii\\Desktop\\CAPSTONE PROJECT\\RED BUS\\df_buses_3.csv\")\n",
    "df_buses_4 = pd.read_csv(r\"C:\\Users\\Sukkiiii\\Desktop\\CAPSTONE PROJECT\\RED BUS\\df_buses_4.csv\")\n",
    "df_buses_5 = pd.read_csv(r\"C:\\Users\\Sukkiiii\\Desktop\\CAPSTONE PROJECT\\RED BUS\\df_buses_5.csv\")\n",
    "df_buses_6 = pd.read_csv(r\"C:\\Users\\Sukkiiii\\Desktop\\CAPSTONE PROJECT\\RED BUS\\df_buses_6.csv\")\n",
    "df_buses_7 = pd.read_csv(r\"C:\\Users\\Sukkiiii\\Desktop\\CAPSTONE PROJECT\\RED BUS\\df_buses_7.csv\")\n",
    "df_buses_8 = pd.read_csv(r\"C:\\Users\\Sukkiiii\\Desktop\\CAPSTONE PROJECT\\RED BUS\\df_buses_8.csv\")\n",
    "df_buses_9 = pd.read_csv(r\"C:\\Users\\Sukkiiii\\Desktop\\CAPSTONE PROJECT\\RED BUS\\df_buses_9.csv\")\n",
    "df_buses_10 = pd.read_csv(r\"C:\\Users\\Sukkiiii\\Desktop\\CAPSTONE PROJECT\\RED BUS\\df_buses_10.csv\")\n",
    "\n",
    "# Concatenating all DataFrames into one\n",
    "Final_df = pd.concat(\n",
    "    [df_buses_1, df_buses_2, df_buses_3, df_buses_4, df_buses_5, \n",
    "     df_buses_6, df_buses_7, df_buses_8, df_buses_9, df_buses_10], \n",
    "    ignore_index=True\n",
    ")\n",
    "\n",
    "# Optional: Remove duplicates if needed\n",
    "Final_df.drop_duplicates(inplace=True)\n",
    "\n",
    "\n"
   ]
  },
  {
   "cell_type": "code",
   "execution_count": 50,
   "id": "047b7df0-d47c-406b-9f10-be3932b01e14",
   "metadata": {},
   "outputs": [
    {
     "name": "stdout",
     "output_type": "stream",
     "text": [
      "<class 'pandas.core.frame.DataFrame'>\n",
      "Index: 1882 entries, 0 to 1917\n",
      "Data columns (total 10 columns):\n",
      " #   Column           Non-Null Count  Dtype \n",
      "---  ------           --------------  ----- \n",
      " 0   Bus_name         1874 non-null   object\n",
      " 1   Bus_type         1867 non-null   object\n",
      " 2   Start_time       1874 non-null   object\n",
      " 3   End_time         1874 non-null   object\n",
      " 4   Total_duration   1874 non-null   object\n",
      " 5   Price            1873 non-null   object\n",
      " 6   Seats_Available  1870 non-null   object\n",
      " 7   Ratings          1874 non-null   object\n",
      " 8   Route_link       1882 non-null   object\n",
      " 9   Route_name       1882 non-null   object\n",
      "dtypes: object(10)\n",
      "memory usage: 161.7+ KB\n"
     ]
    }
   ],
   "source": [
    "Final_df.info()"
   ]
  },
  {
   "cell_type": "code",
   "execution_count": 51,
   "id": "660d2554-55c7-41ba-bd6e-2cd4bb2d0d2c",
   "metadata": {
    "scrolled": true
   },
   "outputs": [
    {
     "name": "stdout",
     "output_type": "stream",
     "text": [
      "0       640.0\n",
      "1       640.0\n",
      "2       469.0\n",
      "3       469.0\n",
      "4       627.0\n",
      "        ...  \n",
      "1913    385.0\n",
      "1914    347.0\n",
      "1915    288.0\n",
      "1916    288.0\n",
      "1917    298.0\n",
      "Name: Price, Length: 1882, dtype: float64\n"
     ]
    }
   ],
   "source": [
    "# Ensure the Price column is treated as a string\n",
    "Final_df[\"Price\"] = Final_df[\"Price\"].astype(str)\n",
    "\n",
    "# Remove the string \"INR\" and strip whitespace\n",
    "Final_df[\"Price\"] = Final_df[\"Price\"].str.replace(\"INR\", \"\").str.strip()\n",
    "\n",
    "# Convert the Price column to numeric type\n",
    "Final_df[\"Price\"] = pd.to_numeric(Final_df[\"Price\"], errors='coerce')\n",
    "\n",
    "# Fill any NaN values in the Price column with 0\n",
    "Final_df[\"Price\"] = Final_df[\"Price\"].fillna(0)\n",
    "print(Final_df[\"Price\"])"
   ]
  },
  {
   "cell_type": "code",
   "execution_count": 52,
   "id": "bb3039b7-09ec-4f24-b85b-fbe1b7141df4",
   "metadata": {},
   "outputs": [
    {
     "name": "stdout",
     "output_type": "stream",
     "text": [
      "0       3.5\n",
      "1       4.3\n",
      "2       3.4\n",
      "3       3.6\n",
      "4       3.5\n",
      "       ... \n",
      "1913    4.3\n",
      "1914    3.7\n",
      "1915    3.9\n",
      "1916    3.6\n",
      "1917    4.1\n",
      "Name: Ratings, Length: 1882, dtype: float64\n"
     ]
    }
   ],
   "source": [
    "# Replace \"New\" with an empty string\n",
    "Final_df[\"Ratings\"] = Final_df[\"Ratings\"].replace(\"New\", \"\")\n",
    "\n",
    "# Strip whitespace\n",
    "Final_df[\"Ratings\"] = Final_df[\"Ratings\"].str.strip()\n",
    "\n",
    "# Split the string and take the first element\n",
    "Final_df[\"Ratings\"] = Final_df[\"Ratings\"].str.split().str[0]\n",
    "\n",
    "# Convert to numeric, coerce errors to NaN\n",
    "Final_df[\"Ratings\"] = pd.to_numeric(Final_df[\"Ratings\"], errors=\"coerce\")\n",
    "\n",
    "# Fill NaN values with 0\n",
    "Final_df[\"Ratings\"] = Final_df[\"Ratings\"].fillna(0)\n",
    "\n",
    "# Print the Ratings column\n",
    "print(Final_df[\"Ratings\"])\n"
   ]
  },
  {
   "cell_type": "code",
   "execution_count": 53,
   "id": "da522b8b-4834-4dbf-825b-a525129b96de",
   "metadata": {},
   "outputs": [
    {
     "name": "stdout",
     "output_type": "stream",
     "text": [
      "0       30.0\n",
      "1       24.0\n",
      "2       17.0\n",
      "3       12.0\n",
      "4       21.0\n",
      "        ... \n",
      "1913    25.0\n",
      "1914    32.0\n",
      "1915    40.0\n",
      "1916     0.0\n",
      "1917    18.0\n",
      "Name: Seats_Available, Length: 1882, dtype: float64\n"
     ]
    }
   ],
   "source": [
    "Final_df[\"Seats_Available\"] = Final_df[\"Seats_Available\"].astype(str)\n",
    "\n",
    "# Remove the string \"INR\" and strip whitespace\n",
    "Final_df[\"Seats_Available\"] = Final_df[\"Seats_Available\"].str.replace(\"Seats available\", \"\").str.strip()\n",
    "\n",
    "# Convert the Price column to numeric type\n",
    "Final_df[\"Seats_Available\"] = pd.to_numeric(Final_df[\"Seats_Available\"], errors='coerce')\n",
    "\n",
    "# Fill any NaN values in the Price column with 0\n",
    "Final_df[\"Seats_Available\"] = Final_df[\"Seats_Available\"].fillna(0)\n",
    "print(Final_df[\"Seats_Available\"])"
   ]
  },
  {
   "cell_type": "code",
   "execution_count": 54,
   "id": "5e4ae262-2763-439f-841e-23101d77e0dc",
   "metadata": {},
   "outputs": [
    {
     "name": "stdout",
     "output_type": "stream",
     "text": [
      "                   Bus_name                                   Bus_type  \\\n",
      "0     KSRTC (Kerala) - 1586          Swift Deluxe Non AC Air Bus (2+2)   \n",
      "1     KSRTC (Kerala) - 2133          Swift Deluxe Non AC Air Bus (2+2)   \n",
      "2      KSRTC (Kerala) - 574  Super Express Non AC Seater Air Bus (2+2)   \n",
      "3      KSRTC (Kerala) - 583  Super Express Non AC Seater Air Bus (2+2)   \n",
      "4       KSRTC (Kerala) - 56                SWIFT-GARUDA A/C SEATER BUS   \n",
      "...                     ...                                        ...   \n",
      "1913                  NueGo                  Electric A/C Seater (2+2)   \n",
      "1914       TSB Tour express                            AC Seater (2+2)   \n",
      "1915      City Land Travels                          A/C Sleeper (2+1)   \n",
      "1916      City Land Travels                          A/C Sleeper (2+1)   \n",
      "1917                  NueGo                                        NaN   \n",
      "\n",
      "     Start_time End_time Total_duration  Price  Seats_Available  Ratings  \\\n",
      "0         21:30    06:55        09h 25m  640.0             30.0      3.5   \n",
      "1         22:10    07:35        09h 25m  640.0             24.0      4.3   \n",
      "2         23:00    09:40        10h 40m  469.0             17.0      3.4   \n",
      "3         23:30    09:50        10h 20m  469.0             12.0      3.6   \n",
      "4         23:40    10:00        10h 20m  627.0             21.0      3.5   \n",
      "...         ...      ...            ...    ...              ...      ...   \n",
      "1913      20:35    02:45        06h 10m  385.0             25.0      4.3   \n",
      "1914      22:45    04:05        05h 20m  347.0             32.0      3.7   \n",
      "1915      23:00    04:15        05h 15m  288.0             40.0      3.9   \n",
      "1916      21:00    02:00        05h 00m  288.0              0.0      3.6   \n",
      "1917      21:35    03:30        05h 55m  298.0             18.0      4.1   \n",
      "\n",
      "                                             Route_link  \\\n",
      "0     https://www.redbus.in/bus-tickets/bangalore-to...   \n",
      "1     https://www.redbus.in/bus-tickets/bangalore-to...   \n",
      "2     https://www.redbus.in/bus-tickets/bangalore-to...   \n",
      "3     https://www.redbus.in/bus-tickets/bangalore-to...   \n",
      "4     https://www.redbus.in/bus-tickets/bangalore-to...   \n",
      "...                                                 ...   \n",
      "1913  https://www.redbus.in/bus-tickets/delhi-to-har...   \n",
      "1914  https://www.redbus.in/bus-tickets/delhi-to-har...   \n",
      "1915  https://www.redbus.in/bus-tickets/delhi-to-har...   \n",
      "1916  https://www.redbus.in/bus-tickets/delhi-to-har...   \n",
      "1917  https://www.redbus.in/bus-tickets/delhi-to-har...   \n",
      "\n",
      "                  Route_name  \n",
      "0     Bangalore to Kozhikode  \n",
      "1     Bangalore to Kozhikode  \n",
      "2     Bangalore to Kozhikode  \n",
      "3     Bangalore to Kozhikode  \n",
      "4     Bangalore to Kozhikode  \n",
      "...                      ...  \n",
      "1913       Delhi to Haridwar  \n",
      "1914       Delhi to Haridwar  \n",
      "1915       Delhi to Haridwar  \n",
      "1916       Delhi to Haridwar  \n",
      "1917       Delhi to Haridwar  \n",
      "\n",
      "[1882 rows x 10 columns]\n"
     ]
    }
   ],
   "source": [
    "print(Final_df)"
   ]
  },
  {
   "cell_type": "code",
   "execution_count": 55,
   "id": "92789c25-050f-4d8d-bf49-82d66d92174e",
   "metadata": {},
   "outputs": [
    {
     "name": "stdout",
     "output_type": "stream",
     "text": [
      "                   Bus_name                                   Bus_type  \\\n",
      "0     KSRTC (Kerala) - 1586          Swift Deluxe Non AC Air Bus (2+2)   \n",
      "1     KSRTC (Kerala) - 2133          Swift Deluxe Non AC Air Bus (2+2)   \n",
      "2      KSRTC (Kerala) - 574  Super Express Non AC Seater Air Bus (2+2)   \n",
      "3      KSRTC (Kerala) - 583  Super Express Non AC Seater Air Bus (2+2)   \n",
      "4       KSRTC (Kerala) - 56                SWIFT-GARUDA A/C SEATER BUS   \n",
      "...                     ...                                        ...   \n",
      "1913                  NueGo                  Electric A/C Seater (2+2)   \n",
      "1914       TSB Tour express                            AC Seater (2+2)   \n",
      "1915      City Land Travels                          A/C Sleeper (2+1)   \n",
      "1916      City Land Travels                          A/C Sleeper (2+1)   \n",
      "1917                  NueGo                                       None   \n",
      "\n",
      "     Start_time End_time Total_duration  Price  Seats_Available  Ratings  \\\n",
      "0         21:30    06:55        09h 25m  640.0             30.0      3.5   \n",
      "1         22:10    07:35        09h 25m  640.0             24.0      4.3   \n",
      "2         23:00    09:40        10h 40m  469.0             17.0      3.4   \n",
      "3         23:30    09:50        10h 20m  469.0             12.0      3.6   \n",
      "4         23:40    10:00        10h 20m  627.0             21.0      3.5   \n",
      "...         ...      ...            ...    ...              ...      ...   \n",
      "1913      20:35    02:45        06h 10m  385.0             25.0      4.3   \n",
      "1914      22:45    04:05        05h 20m  347.0             32.0      3.7   \n",
      "1915      23:00    04:15        05h 15m  288.0             40.0      3.9   \n",
      "1916      21:00    02:00        05h 00m  288.0              0.0      3.6   \n",
      "1917      21:35    03:30        05h 55m  298.0             18.0      4.1   \n",
      "\n",
      "                                             Route_link  \\\n",
      "0     https://www.redbus.in/bus-tickets/bangalore-to...   \n",
      "1     https://www.redbus.in/bus-tickets/bangalore-to...   \n",
      "2     https://www.redbus.in/bus-tickets/bangalore-to...   \n",
      "3     https://www.redbus.in/bus-tickets/bangalore-to...   \n",
      "4     https://www.redbus.in/bus-tickets/bangalore-to...   \n",
      "...                                                 ...   \n",
      "1913  https://www.redbus.in/bus-tickets/delhi-to-har...   \n",
      "1914  https://www.redbus.in/bus-tickets/delhi-to-har...   \n",
      "1915  https://www.redbus.in/bus-tickets/delhi-to-har...   \n",
      "1916  https://www.redbus.in/bus-tickets/delhi-to-har...   \n",
      "1917  https://www.redbus.in/bus-tickets/delhi-to-har...   \n",
      "\n",
      "                  Route_name  \n",
      "0     Bangalore to Kozhikode  \n",
      "1     Bangalore to Kozhikode  \n",
      "2     Bangalore to Kozhikode  \n",
      "3     Bangalore to Kozhikode  \n",
      "4     Bangalore to Kozhikode  \n",
      "...                      ...  \n",
      "1913       Delhi to Haridwar  \n",
      "1914       Delhi to Haridwar  \n",
      "1915       Delhi to Haridwar  \n",
      "1916       Delhi to Haridwar  \n",
      "1917       Delhi to Haridwar  \n",
      "\n",
      "[1882 rows x 10 columns]\n"
     ]
    }
   ],
   "source": [
    "Final_df=Final_df.replace({np.nan: None})\n",
    "print(Final_df)"
   ]
  },
  {
   "cell_type": "code",
   "execution_count": 56,
   "id": "493a75b2-1f04-4069-b226-be9412759751",
   "metadata": {},
   "outputs": [],
   "source": [
    "path=\"C:/Users/Sukkiiii/Desktop/CAPSTONE PROJECT/RED BUS/df_main.csv\"\n",
    "Final_df.to_csv(path,index=False)"
   ]
  },
  {
   "cell_type": "code",
   "execution_count": 57,
   "id": "d571ce76-d54f-4bac-ba3a-e46d99be723f",
   "metadata": {},
   "outputs": [
    {
     "name": "stdout",
     "output_type": "stream",
     "text": [
      "Database created or already exists.\n"
     ]
    }
   ],
   "source": [
    "# SQL connection\n",
    "conn = mysql.connector.connect(\n",
    "    host=\"localhost\",\n",
    "    user=\"root\",\n",
    "    password=\"Amphi@55\",\n",
    "    database=\"RED_BUS_DETAILS\"\n",
    ")\n",
    "\n",
    "my_cursor = conn.cursor()\n",
    "# Correct syntax to create a database if it doesn't exist\n",
    "my_cursor.execute(\"CREATE DATABASE IF NOT EXISTS RED_BUS_DETAILS\")\n",
    "\n",
    "print(\"Database created or already exists.\")\n"
   ]
  },
  {
   "cell_type": "code",
   "execution_count": 59,
   "id": "13a12688-fb4d-47e1-9d8e-1a1f39fc5f5f",
   "metadata": {},
   "outputs": [
    {
     "name": "stdout",
     "output_type": "stream",
     "text": [
      "Table Created Successfully\n",
      "Values inserted successfully\n"
     ]
    }
   ],
   "source": [
    "import mysql.connector\n",
    "import pandas as pd\n",
    "\n",
    "# Establish database connection\n",
    "conn = mysql.connector.connect(\n",
    "    host=\"localhost\",\n",
    "    user=\"root\",\n",
    "    password=\"Amphi@55\",\n",
    "    database=\"RED_BUS_DETAILS\"\n",
    ")\n",
    "\n",
    "my_cursor = conn.cursor()\n",
    "\n",
    "# Create the table\n",
    "my_cursor.execute('''\n",
    "CREATE TABLE IF NOT EXISTS bus_details(\n",
    "    ID INT AUTO_INCREMENT PRIMARY KEY,\n",
    "    Bus_name VARCHAR(255) NOT NULL,\n",
    "    Bus_type VARCHAR(255) NOT NULL,\n",
    "    Start_time DATETIME NOT NULL,\n",
    "    End_time DATETIME NOT NULL,\n",
    "    Total_duration TIME NOT NULL,\n",
    "    Price FLOAT NULL,\n",
    "    Seats_Available INT NOT NULL,\n",
    "    Ratings FLOAT NULL,\n",
    "    Route_link VARCHAR(255) NULL,\n",
    "    Route_name VARCHAR(255) NULL\n",
    ")\n",
    "''')\n",
    "print(\"Table Created Successfully\")\n",
    "\n",
    "# Prepare the insert query\n",
    "insert_query = '''\n",
    "INSERT INTO bus_details(\n",
    "    Bus_name,\n",
    "    Bus_type,\n",
    "    Start_time,\n",
    "    End_time,\n",
    "    Total_duration,\n",
    "    Price,\n",
    "    Seats_Available,\n",
    "    Ratings,\n",
    "    Route_link,\n",
    "    Route_name)\n",
    "VALUES(%s, %s, %s, %s, %s, %s, %s, %s, %s, %s)\n",
    "'''\n",
    "\n",
    "# Data Cleaning and Conversion\n",
    "try:\n",
    "    # Ensure datetime columns have proper format\n",
    "    Final_df['Start_time'] = pd.to_datetime(Final_df['Start_time'], format=\"%Y-%m-%d %H:%M:%S\", errors='coerce')\n",
    "    Final_df['End_time'] = pd.to_datetime(Final_df['End_time'], format=\"%Y-%m-%d %H:%M:%S\", errors='coerce')\n",
    "    \n",
    "    # Convert Total_duration to string in 'HH:MM:SS' format for MySQL compatibility\n",
    "    Final_df['Total_duration'] = pd.to_timedelta(Final_df['Total_duration'], errors='coerce')\n",
    "    Final_df['Total_duration'] = Final_df['Total_duration'].dt.components.apply(\n",
    "        lambda row: f\"{row.hours:02}:{row.minutes:02}:{row.seconds:02}\", axis=1\n",
    "    )\n",
    "\n",
    "    # Convert numeric columns to proper types\n",
    "    Final_df['Price'] = pd.to_numeric(Final_df['Price'], errors='coerce')\n",
    "    Final_df['Seats_Available'] = pd.to_numeric(Final_df['Seats_Available'], errors='coerce', downcast='integer')\n",
    "    Final_df['Ratings'] = pd.to_numeric(Final_df['Ratings'], errors='coerce')\n",
    "\n",
    "    # Fill null values\n",
    "    Final_df = Final_df.fillna({\n",
    "        'Price': 0.0,\n",
    "        'Ratings': 0.0,\n",
    "        'Route_link': '',\n",
    "        'Route_name': ''\n",
    "    })\n",
    "\n",
    "    # Drop rows with nulls in mandatory fields\n",
    "    Final_df = Final_df.dropna(subset=['Bus_name', 'Bus_type', 'Start_time', 'End_time', 'Total_duration', 'Seats_Available'])\n",
    "\n",
    "    # Convert to list of tuples\n",
    "    data = Final_df.values.tolist()\n",
    "\n",
    "    # Insert data\n",
    "    my_cursor.executemany(insert_query, data)\n",
    "    conn.commit()\n",
    "    print(\"Values inserted successfully\")\n",
    "except Exception as e:\n",
    "    print(f\"Error during data processing or insertion: {e}\")\n",
    "finally:\n",
    "    conn.close()\n",
    "\n"
   ]
  }
 ],
 "metadata": {
  "kernelspec": {
   "display_name": "Python 3 (ipykernel)",
   "language": "python",
   "name": "python3"
  },
  "language_info": {
   "codemirror_mode": {
    "name": "ipython",
    "version": 3
   },
   "file_extension": ".py",
   "mimetype": "text/x-python",
   "name": "python",
   "nbconvert_exporter": "python",
   "pygments_lexer": "ipython3",
   "version": "3.12.7"
  }
 },
 "nbformat": 4,
 "nbformat_minor": 5
}
